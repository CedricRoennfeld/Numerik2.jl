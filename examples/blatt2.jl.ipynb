{
 "cells": [
  {
   "cell_type": "code",
   "execution_count": null,
   "id": "f85a7199",
   "metadata": {},
   "outputs": [
    {
     "name": "stdout",
     "output_type": "stream",
     "text": [
      "Found the approximative solution [0.134, -0.162] after 16 iterations\n",
      "More digit representation: [0.1337688714381373, -0.1621931389252084]\n"
     ]
    }
   ],
   "source": [
    "push!(LOAD_PATH, joinpath(@__DIR__, \"..\"))\n",
    "using Numerik2\n",
    "using Printf\n",
    "\n",
    "F(x) = [1/3 * x[2]^2 + 1/8, 1/4 * x[1]^2 - 1/6]\n",
    "# calculate fixed point iteration with Inf Norm\n",
    "x,n = fixed_point_iteration(F, [0,0], 1e-30, custom_norm=x->norm(x,Inf))\n",
    "\n",
    "@printf(\"Found the approximative solution [%.3f, %.3f] after %d iterations\\n\", \n",
    "        x[1], x[2], n\n",
    ")\n",
    "@printf(\"More digit representation: [%.16f, %.16f]\\n\", x[1], x[2])"
   ]
  },
  {
   "cell_type": "code",
   "execution_count": null,
   "id": "cab6c69d",
   "metadata": {},
   "outputs": [],
   "source": []
  }
 ],
 "metadata": {
  "kernelspec": {
   "display_name": "Julia 1.11.5",
   "language": "julia",
   "name": "julia-1.11"
  },
  "language_info": {
   "file_extension": ".jl",
   "mimetype": "application/julia",
   "name": "julia",
   "version": "1.11.5"
  }
 },
 "nbformat": 4,
 "nbformat_minor": 5
}
