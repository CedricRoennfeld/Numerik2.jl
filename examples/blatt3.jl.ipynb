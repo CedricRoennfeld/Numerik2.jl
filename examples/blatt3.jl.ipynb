{
 "cells": [
  {
   "cell_type": "code",
   "execution_count": 1,
   "id": "595c532b",
   "metadata": {},
   "outputs": [],
   "source": [
    "push!(LOAD_PATH, joinpath(@__DIR__, \"..\"))\n",
    "using Numerik2"
   ]
  },
  {
   "cell_type": "code",
   "execution_count": 4,
   "id": "65e61698",
   "metadata": {},
   "outputs": [
    {
     "name": "stdout",
     "output_type": "stream",
     "text": [
      "---jacobi method---\n",
      "||Ax-b|| = 0.0016194456984157226\n",
      "---gauss seidel method---\n",
      "||Ax-b|| = 9.878167619740789e-9\n"
     ]
    }
   ],
   "source": [
    "A = [2.0 0.0 1.0; 1.0 -4.0 1.0; 0.0 -1.0 2.0]\n",
    "b = [1.0, 4.0, -1.0]\n",
    "x0 = [1.0, 1.0, 1.0]\n",
    "\n",
    "x = jacobi(A,b,x0; max_iter=8)\n",
    "println(\"---jacobi method---\")\n",
    "println(\"||Ax-b|| = $(norm(A*x-b))\")\n",
    "\n",
    "x = gauss_seidel(A,b,x0; max_iter=8)\n",
    "println(\"---gauss seidel method---\")\n",
    "println(\"||Ax-b|| = $(norm(A*x-b))\")"
   ]
  },
  {
   "cell_type": "code",
   "execution_count": null,
   "id": "22a2fd54",
   "metadata": {},
   "outputs": [],
   "source": []
  }
 ],
 "metadata": {
  "kernelspec": {
   "display_name": "Julia 1.11.5",
   "language": "julia",
   "name": "julia-1.11"
  },
  "language_info": {
   "file_extension": ".jl",
   "mimetype": "application/julia",
   "name": "julia",
   "version": "1.11.5"
  }
 },
 "nbformat": 4,
 "nbformat_minor": 5
}
