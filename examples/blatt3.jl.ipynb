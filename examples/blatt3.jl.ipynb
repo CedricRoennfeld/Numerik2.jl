{
 "cells": [
  {
   "cell_type": "code",
   "execution_count": 1,
   "id": "595c532b",
   "metadata": {},
   "outputs": [],
   "source": [
    "push!(LOAD_PATH, joinpath(@__DIR__, \"..\"))\n",
    "using Numerik2"
   ]
  },
  {
   "cell_type": "code",
   "execution_count": 2,
   "id": "65e61698",
   "metadata": {},
   "outputs": [
    {
     "name": "stdout",
     "output_type": "stream",
     "text": [
      "||Ax-b|| = 6.177695077574625e-9\n"
     ]
    }
   ],
   "source": [
    "A = [2 0 1; 1 -4 1; 0 -1 2]\n",
    "b = [1, 4, -1]\n",
    "x0 = [1, 1, 1]\n",
    "\n",
    "x = jacobi(A,b,x0; max_iter=20)\n",
    "\n",
    "println(\"||Ax-b|| = $(norm(A*x-b))\")"
   ]
  },
  {
   "cell_type": "code",
   "execution_count": null,
   "id": "22a2fd54",
   "metadata": {},
   "outputs": [],
   "source": []
  }
 ],
 "metadata": {
  "kernelspec": {
   "display_name": "Julia 1.11.5",
   "language": "julia",
   "name": "julia-1.11"
  },
  "language_info": {
   "file_extension": ".jl",
   "mimetype": "application/julia",
   "name": "julia",
   "version": "1.11.5"
  }
 },
 "nbformat": 4,
 "nbformat_minor": 5
}
